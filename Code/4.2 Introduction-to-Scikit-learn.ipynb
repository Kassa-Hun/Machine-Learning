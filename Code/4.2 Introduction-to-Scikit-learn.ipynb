{
  "nbformat": 4,
  "nbformat_minor": 0,
  "metadata": {
    "colab": {
      "name": "Untitled2.ipynb",
      "provenance": [],
      "authorship_tag": "ABX9TyNjZ33XqhRuf1oIr48JZqHk",
      "include_colab_link": true
    },
    "kernelspec": {
      "name": "python3",
      "display_name": "Python 3"
    }
  },
  "cells": [
    {
      "cell_type": "markdown",
      "metadata": {
        "id": "view-in-github",
        "colab_type": "text"
      },
      "source": [
        "<a href=\"https://colab.research.google.com/github/Kassa-Hun/MachineLearning/blob/main/Code/4.2%20Introduction-to-Scikit-learn.ipynb\" target=\"_parent\"><img src=\"https://colab.research.google.com/assets/colab-badge.svg\" alt=\"Open In Colab\"/></a>"
      ]
    },
    {
      "cell_type": "code",
      "metadata": {
        "colab": {
          "base_uri": "https://localhost:8080/"
        },
        "id": "6keuuwKDYFOo",
        "outputId": "a71aef16-d10d-4700-a52c-7510afc1c751"
      },
      "source": [
        "import numpy as np\n",
        "import pandas as pd\n",
        "from sklearn.pipeline import Pipeline\n",
        "from sklearn.model_selection import train_test_split, GridSearchCV\n",
        "from sklearn.ensemble import RandomForestRegressor\n",
        "from sklearn.preprocessing import OneHotEncoder\n",
        "from sklearn.impute import SimpleImputer\n",
        "from sklearn.compose import ColumnTransformer\n",
        "\n",
        "data_URL=\"https://raw.githubusercontent.com/Kassa-Hun/MachineLearning/main/Data/car-sales-extended-missing-data.csv\"\n",
        "data=pd.read_csv(data_URL)\n",
        "\n",
        "np.random.seed(42)\n",
        "\n",
        "data.dropna(subset=[\"Price\"],inplace=True)\n",
        "\n",
        "# Define d/t categogies and transformer Pipeline\n",
        "\n",
        "cat_features=[\"Make\",\"Colour\"]\n",
        "cat_trasnformer=Pipeline(steps=[ \n",
        "                                (\"imputer\",SimpleImputer(strategy=\"constant\",fill_value=\"missing\")),\n",
        "                                (\"onehot\",OneHotEncoder(handle_unknown=\"ignore\"))\n",
        "])\n",
        "\n",
        "door_feature=[\"Doors\"]\n",
        "door_transformer=Pipeline(steps=[\n",
        "                                 (\"imputer\",SimpleImputer(strategy=\"constant\",fill_value=4))\n",
        "])\n",
        "\n",
        "num_feature=[\"Odometer (KM)\"]\n",
        "num_transformer=Pipeline(steps=[\n",
        "                                (\"imputer\",SimpleImputer(strategy=\"mean\"))\n",
        "])\n",
        "\n",
        "\n"
      ],
      "execution_count": 14,
      "outputs": [
        {
          "output_type": "execute_result",
          "data": {
            "text/plain": [
              "Make             47\n",
              "Colour           46\n",
              "Odometer (KM)    48\n",
              "Doors            47\n",
              "Price             0\n",
              "dtype: int64"
            ]
          },
          "metadata": {
            "tags": []
          },
          "execution_count": 14
        }
      ]
    },
    {
      "cell_type": "markdown",
      "metadata": {
        "id": "J5rDRlSUdPVW"
      },
      "source": [
        "# Steps to follow\n",
        "1. Fill the missing data \n",
        "2. Covert the data into numbers\n",
        "3. Build the model "
      ]
    },
    {
      "cell_type": "code",
      "metadata": {
        "id": "m9yALZIxcpJu"
      },
      "source": [
        ""
      ],
      "execution_count": null,
      "outputs": []
    }
  ]
}